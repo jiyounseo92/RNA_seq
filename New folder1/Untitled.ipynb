{
 "cells": [
  {
   "cell_type": "markdown",
   "id": "20cfd08c-e6ce-44e8-a22c-81e47f228cfa",
   "metadata": {},
   "source": [
    "Upload to Github\n",
    "\n",
    "Enter powershell in jupyter (new > terminal)\n",
    "\n",
    "Make the path to git\n",
    "$env:Path += \";C:\\Users\\SeoJ4\\AppData\\Local\\Programs\\Git\\cmd\"\n",
    "\n",
    "Check \n",
    "git --version\n"
   ]
  }
 ],
 "metadata": {
  "kernelspec": {
   "display_name": "Python 3 (ipykernel)",
   "language": "python",
   "name": "python3"
  },
  "language_info": {
   "codemirror_mode": {
    "name": "ipython",
    "version": 3
   },
   "file_extension": ".py",
   "mimetype": "text/x-python",
   "name": "python",
   "nbconvert_exporter": "python",
   "pygments_lexer": "ipython3",
   "version": "3.12.7"
  }
 },
 "nbformat": 4,
 "nbformat_minor": 5
}
